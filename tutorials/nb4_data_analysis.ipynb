{
  "cells": [
    {
      "cell_type": "markdown",
      "id": "7a3c0098",
      "metadata": {
        "id": "7a3c0098"
      },
      "source": [
        "# Data analysis"
      ]
    },
    {
      "cell_type": "code",
      "execution_count": null,
      "id": "ac482ab5",
      "metadata": {
        "id": "ac482ab5"
      },
      "outputs": [],
      "source": [
        "import os\n",
        "import pandas as pd\n",
        "from pandas.api.types import CategoricalDtype\n",
        "import numpy as np\n",
        "from matplotlib import pyplot as plt\n",
        "import seaborn as sns"
      ]
    },
    {
      "cell_type": "markdown",
      "id": "ce036ead",
      "metadata": {
        "id": "ce036ead"
      },
      "source": [
        "Analysis todo\n",
        "- Anova\n",
        "- fit time evolution\n",
        "- clustering of behaviours\n",
        "- predict stage from the measures\n",
        "    - select predictive features\n"
      ]
    },
    {
      "cell_type": "code",
      "source": [],
      "metadata": {
        "id": "VzggzA-RvUDx"
      },
      "id": "VzggzA-RvUDx",
      "execution_count": null,
      "outputs": []
    }
  ],
  "metadata": {
    "kernelspec": {
      "display_name": "pycourse",
      "language": "python",
      "name": "python3"
    },
    "language_info": {
      "codemirror_mode": {
        "name": "ipython",
        "version": 3
      },
      "file_extension": ".py",
      "mimetype": "text/x-python",
      "name": "python",
      "nbconvert_exporter": "python",
      "pygments_lexer": "ipython3",
      "version": "3.12.11"
    },
    "colab": {
      "provenance": []
    }
  },
  "nbformat": 4,
  "nbformat_minor": 5
}